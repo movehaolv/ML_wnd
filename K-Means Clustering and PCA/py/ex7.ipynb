{
 "cells": [
  {
   "cell_type": "code",
   "execution_count": 16,
   "metadata": {},
   "outputs": [],
   "source": [
    "from PIL import Image\n",
    "import numpy as np"
   ]
  },
  {
   "cell_type": "code",
   "execution_count": 22,
   "metadata": {},
   "outputs": [],
   "source": [
    "A = np.array(Image.open(\"bird_small.png\"))"
   ]
  },
  {
   "cell_type": "code",
   "execution_count": 54,
   "metadata": {},
   "outputs": [
    {
     "data": {
      "text/plain": [
       "array([[219, 230, 226, ...,  14,  13,  12],\n",
       "       [230, 224, 226, ...,  16,  14,  11],\n",
       "       [228, 228, 220, ...,  14,  13,  11],\n",
       "       ...,\n",
       "       [ 15,  18,  18, ...,  81,  70,  72],\n",
       "       [ 16,  17,  20, ...,  80,  68,  59],\n",
       "       [ 15,  20,  18, ...,  65,  58,  52]], dtype=uint8)"
      ]
     },
     "execution_count": 54,
     "metadata": {},
     "output_type": "execute_result"
    }
   ],
   "source": [
    "A[:,:,0]"
   ]
  },
  {
   "cell_type": "code",
   "execution_count": 52,
   "metadata": {},
   "outputs": [
    {
     "data": {
      "text/plain": [
       "array([[[219, 180, 103],\n",
       "        [230, 185, 116],\n",
       "        [226, 186, 110],\n",
       "        ...,\n",
       "        [ 14,  15,  13],\n",
       "        [ 13,  15,  12],\n",
       "        [ 12,  14,  12]],\n",
       "\n",
       "       [[230, 193, 119],\n",
       "        [224, 192, 120],\n",
       "        [226, 192, 124],\n",
       "        ...,\n",
       "        [ 16,  16,  13],\n",
       "        [ 14,  15,  10],\n",
       "        [ 11,  14,   9]],\n",
       "\n",
       "       [[228, 191, 123],\n",
       "        [228, 191, 121],\n",
       "        [220, 185, 118],\n",
       "        ...,\n",
       "        [ 14,  16,  13],\n",
       "        [ 13,  13,  11],\n",
       "        [ 11,  15,  10]],\n",
       "\n",
       "       ...,\n",
       "\n",
       "       [[ 15,  18,  16],\n",
       "        [ 18,  21,  18],\n",
       "        [ 18,  19,  16],\n",
       "        ...,\n",
       "        [ 81,  45,  45],\n",
       "        [ 70,  43,  35],\n",
       "        [ 72,  51,  43]],\n",
       "\n",
       "       [[ 16,  17,  17],\n",
       "        [ 17,  18,  19],\n",
       "        [ 20,  19,  20],\n",
       "        ...,\n",
       "        [ 80,  38,  40],\n",
       "        [ 68,  39,  40],\n",
       "        [ 59,  43,  42]],\n",
       "\n",
       "       [[ 15,  19,  19],\n",
       "        [ 20,  20,  18],\n",
       "        [ 18,  19,  17],\n",
       "        ...,\n",
       "        [ 65,  43,  39],\n",
       "        [ 58,  37,  38],\n",
       "        [ 52,  39,  34]]], dtype=uint8)"
      ]
     },
     "execution_count": 52,
     "metadata": {},
     "output_type": "execute_result"
    }
   ],
   "source": [
    "A"
   ]
  },
  {
   "cell_type": "code",
   "execution_count": 43,
   "metadata": {},
   "outputs": [
    {
     "data": {
      "text/plain": [
       "(2, 2, 3)"
      ]
     },
     "execution_count": 43,
     "metadata": {},
     "output_type": "execute_result"
    }
   ],
   "source": [
    "np.array([ \n",
    "             [[1,2,3],[4,5,6]],\n",
    "              [[7,8,9],[10,11,12]]\n",
    "           ])"
   ]
  },
  {
   "cell_type": "code",
   "execution_count": 41,
   "metadata": {},
   "outputs": [
    {
     "data": {
      "text/plain": [
       "array([[[1., 1., 1.],\n",
       "        [1., 1., 1.]]])"
      ]
     },
     "execution_count": 41,
     "metadata": {},
     "output_type": "execute_result"
    }
   ],
   "source": [
    "np.ones((1,2,3))"
   ]
  },
  {
   "cell_type": "code",
   "execution_count": 15,
   "metadata": {},
   "outputs": [
    {
     "ename": "NameError",
     "evalue": "name 'np' is not defined",
     "output_type": "error",
     "traceback": [
      "\u001b[0;31m---------------------------------------------------------------------------\u001b[0m",
      "\u001b[0;31mNameError\u001b[0m                                 Traceback (most recent call last)",
      "\u001b[0;32m<ipython-input-15-2799845247b4>\u001b[0m in \u001b[0;36m<module>\u001b[0;34m\u001b[0m\n\u001b[0;32m----> 1\u001b[0;31m \u001b[0mnp\u001b[0m\u001b[0;34m.\u001b[0m\u001b[0marray\u001b[0m\u001b[0;34m(\u001b[0m\u001b[0;34m[\u001b[0m\u001b[0;36m1\u001b[0m\u001b[0;34m]\u001b[0m\u001b[0;34m)\u001b[0m\u001b[0;34m.\u001b[0m\u001b[0mshape\u001b[0m\u001b[0;34m\u001b[0m\u001b[0;34m\u001b[0m\u001b[0m\n\u001b[0m",
      "\u001b[0;31mNameError\u001b[0m: name 'np' is not defined"
     ]
    }
   ],
   "source": [
    "np.array([1]).shape"
   ]
  },
  {
   "cell_type": "code",
   "execution_count": 20,
   "metadata": {},
   "outputs": [
    {
     "data": {
      "text/plain": [
       "(1, 1, 1)"
      ]
     },
     "execution_count": 20,
     "metadata": {},
     "output_type": "execute_result"
    }
   ],
   "source": [
    "np.array([[[3]]]).shape"
   ]
  },
  {
   "cell_type": "code",
   "execution_count": null,
   "metadata": {},
   "outputs": [],
   "source": []
  },
  {
   "cell_type": "code",
   "execution_count": null,
   "metadata": {},
   "outputs": [],
   "source": []
  },
  {
   "cell_type": "code",
   "execution_count": null,
   "metadata": {},
   "outputs": [],
   "source": []
  },
  {
   "cell_type": "code",
   "execution_count": null,
   "metadata": {},
   "outputs": [],
   "source": []
  },
  {
   "cell_type": "code",
   "execution_count": null,
   "metadata": {},
   "outputs": [],
   "source": []
  },
  {
   "cell_type": "code",
   "execution_count": null,
   "metadata": {},
   "outputs": [],
   "source": []
  },
  {
   "cell_type": "code",
   "execution_count": null,
   "metadata": {},
   "outputs": [],
   "source": []
  },
  {
   "cell_type": "code",
   "execution_count": null,
   "metadata": {},
   "outputs": [],
   "source": []
  },
  {
   "cell_type": "code",
   "execution_count": null,
   "metadata": {},
   "outputs": [],
   "source": [
    "s"
   ]
  }
 ],
 "metadata": {
  "kernelspec": {
   "display_name": "Python 3",
   "language": "python",
   "name": "python3"
  },
  "language_info": {
   "codemirror_mode": {
    "name": "ipython",
    "version": 3
   },
   "file_extension": ".py",
   "mimetype": "text/x-python",
   "name": "python",
   "nbconvert_exporter": "python",
   "pygments_lexer": "ipython3",
   "version": "3.7.3"
  }
 },
 "nbformat": 4,
 "nbformat_minor": 2
}
